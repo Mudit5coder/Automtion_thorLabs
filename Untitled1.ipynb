{
 "cells": [
  {
   "cell_type": "code",
   "execution_count": 1,
   "id": "9de710cb",
   "metadata": {},
   "outputs": [
    {
     "data": {
      "text/plain": [
       "<System.Reflection.RuntimeAssembly object at 0x0000018289AFD500>"
      ]
     },
     "execution_count": 1,
     "metadata": {},
     "output_type": "execute_result"
    }
   ],
   "source": [
    "import time\n",
    "import clr\n",
    "clr.AddReference(\"C:\\Program Files\\Thorlabs\\Kinesis\\Thorlabs.MotionControl.DeviceManagerCLI.dll\")\n",
    "clr.AddReference(\"C:\\\\Program Files\\\\Thorlabs\\\\Kinesis\\\\Thorlabs.MotionControl.GenericMotorCLI.dll\")\n",
    "clr.AddReference(\"C:\\\\Program Files\\\\Thorlabs\\\\Kinesis\\\\ThorLabs.MotionControl.KCube.DCServoCLI.dll\")"
   ]
  },
  {
   "cell_type": "code",
   "execution_count": 2,
   "id": "cf82f915",
   "metadata": {},
   "outputs": [],
   "source": [
    "import os\n",
    "from Thorlabs.MotionControl.DeviceManagerCLI import *\n",
    "from Thorlabs.MotionControl.GenericMotorCLI import *\n",
    "from Thorlabs.MotionControl.GenericMotorCLI import KCubeMotor\n",
    "from Thorlabs.MotionControl.GenericMotorCLI.ControlParameters import JogParametersBase\n",
    "from Thorlabs.MotionControl.KCube.DCServoCLI import *\n",
    "from Thorlabs.MotionControl.DeviceManagerCLI import DeviceManagerCLI, SimulationManager\n",
    "from Thorlabs.MotionControl.KCube.DCServoCLI import KCubeDCServo\n",
    "from System import Decimal\n",
    "\n",
    "from ctypes import c_uint32,byref,create_string_buffer,c_bool,c_char_p,c_int,c_double"
   ]
  },
  {
   "cell_type": "code",
   "execution_count": 3,
   "id": "e6444c92",
   "metadata": {},
   "outputs": [],
   "source": [
    "controller = None\n",
    "controller1 = None\n",
    "def initialize_motor():\n",
    "    global controller\n",
    "    global controller1\n",
    "    serial_num = '27267676'\n",
    "    serial_num1 = '27267869'\n",
    "    DeviceManagerCLI.BuildDeviceList()\n",
    "    controller = KCubeDCServo.CreateKCubeDCServo(serial_num)\n",
    "    controller1 = KCubeDCServo.CreateKCubeDCServo(serial_num1)\n",
    "    if controller is not None and controller1 is not None:\n",
    "        controller.Connect(serial_num)\n",
    "        controller1.Connect(serial_num1)\n",
    "        if not controller.IsSettingsInitialized():\n",
    "            controller.WaitForSettingsInitialized(3000)\n",
    "        if not controller1.IsSettingsInitialized():\n",
    "            controller1.WaitForSettingsInitialized(3000)    \n",
    "        controller.StartPolling(50)\n",
    "        time.sleep(0.1)\n",
    "        controller.EnableDevice()\n",
    "        time.sleep(0.1)\n",
    "        config = controller.LoadMotorConfiguration(serial_num, DeviceConfiguration.DeviceSettingsUseOptionType.UseFileSettings)\n",
    "        config.DeviceSettingsName = 'PRM1-Z8'\n",
    "        config.UpdateCurrentConfiguration()\n",
    "        controller.SetSettings(controller.MotorDeviceSettings, True, False)\n",
    "        print('Homing Motor')\n",
    "        controller.Home(60000)\n",
    "        print('Motor Homed')\n",
    "        time.sleep(0.5)\n",
    "        controller1.StartPolling(50)\n",
    "        time.sleep(0.1)\n",
    "        controller1.EnableDevice()\n",
    "        time.sleep(0.1)\n",
    "        config1 = controller1.LoadMotorConfiguration(serial_num1, DeviceConfiguration.DeviceSettingsUseOptionType.UseFileSettings)\n",
    "        config1.UpdateCurrentConfiguration()\n",
    "        controller1.SetSettings(controller1.MotorDeviceSettings, True, False)\n",
    "        print('Homing Motor 2')\n",
    "        controller1.Home(60000)\n",
    "        print('Motor Homed  2')\n",
    "    else:\n",
    "        raise Exception(\"Motor not found or couldn't connect.\")\n",
    "\n",
    "def move_motor(x, y):\n",
    "    global controller\n",
    "    global controller1\n",
    "    print('Homing Motor')\n",
    "    controller.Home(60000)\n",
    "    print('Motor Homed')\n",
    "    time.sleep(2)\n",
    "    print('Homing Motor 2')\n",
    "    controller1.Home(60000)\n",
    "    print('Motor Homed  2')\n",
    "    time.sleep(2)\n",
    "    jog_params = controller.GetJogParams()\n",
    "    jog_params.StepSize = Decimal(x)\n",
    "    jog_params.MaxVelocity = Decimal(10)\n",
    "    jog_params.JogMode = JogParametersBase.JogModes.SingleStep\n",
    "    controller.SetJogParams(jog_params)\n",
    "    print(f'Moving motor by {x} angle')\n",
    "    controller.MoveJog(MotorDirection.Forward, 60000)\n",
    "    print('moving motor 1 done')\n",
    "    time.sleep(2)\n",
    "    jog_params1 = controller1.GetJogParams()\n",
    "    jog_params1.StepSize = Decimal(y)\n",
    "    jog_params1.MaxVelocity = Decimal(10)\n",
    "    jog_params1.JogMode = JogParametersBase.JogModes.SingleStep\n",
    "    controller1.SetJogParams(jog_params1)\n",
    "    print(f'Moving motor by {y} angle')\n",
    "    controller1.MoveJog(MotorDirection.Forward, 60000)\n",
    "    print('moving motor 2 done')\n",
    "    time.sleep(2)"
   ]
  },
  {
   "cell_type": "code",
   "execution_count": 4,
   "id": "3d3e05d5",
   "metadata": {},
   "outputs": [
    {
     "ename": "DeviceNotReadyException",
     "evalue": "Device is not connected\r\n   at Thorlabs.MotionControl.DeviceManagerCLI.ThorlabsGenericCoreDeviceCLI.VerifyDeviceConnected(Int32 functionDepth)\r\n   at Thorlabs.MotionControl.GenericMotorCLI.GenericMotorCLI.Connect(String serialNo)",
     "output_type": "error",
     "traceback": [
      "\u001b[1;31m---------------------------------------------------------------------------\u001b[0m",
      "\u001b[1;31mDeviceNotReadyException\u001b[0m                   Traceback (most recent call last)",
      "Cell \u001b[1;32mIn[4], line 1\u001b[0m\n\u001b[1;32m----> 1\u001b[0m \u001b[43minitialize_motor\u001b[49m\u001b[43m(\u001b[49m\u001b[43m)\u001b[49m  \u001b[38;5;66;03m# Call this ONCE\u001b[39;00m\n\u001b[0;32m      2\u001b[0m LP_Motor1_s \u001b[38;5;241m=\u001b[39m [\u001b[38;5;241m0\u001b[39m, \u001b[38;5;241m0\u001b[39m, \u001b[38;5;241m99\u001b[39m, \u001b[38;5;241m79\u001b[39m, \u001b[38;5;241m41\u001b[39m, \u001b[38;5;241m-\u001b[39m\u001b[38;5;241m39\u001b[39m, \u001b[38;5;241m69\u001b[39m, \u001b[38;5;241m-\u001b[39m\u001b[38;5;241m21\u001b[39m, \u001b[38;5;241m69\u001b[39m, \u001b[38;5;241m-\u001b[39m\u001b[38;5;241m69\u001b[39m, \u001b[38;5;241m-\u001b[39m\u001b[38;5;241m39\u001b[39m, \u001b[38;5;241m39\u001b[39m]\n\u001b[0;32m      3\u001b[0m QWPs_motor2 \u001b[38;5;241m=\u001b[39m [\u001b[38;5;241m45\u001b[39m, \u001b[38;5;241m135\u001b[39m, \u001b[38;5;241m0\u001b[39m, \u001b[38;5;241m0\u001b[39m, \u001b[38;5;241m30\u001b[39m, \u001b[38;5;241m30\u001b[39m, \u001b[38;5;241m-\u001b[39m\u001b[38;5;241m30\u001b[39m, \u001b[38;5;241m60\u001b[39m, \u001b[38;5;241m30\u001b[39m, \u001b[38;5;241m-\u001b[39m\u001b[38;5;241m30\u001b[39m, \u001b[38;5;241m-\u001b[39m\u001b[38;5;241m60\u001b[39m]\n",
      "Cell \u001b[1;32mIn[3], line 12\u001b[0m, in \u001b[0;36minitialize_motor\u001b[1;34m()\u001b[0m\n\u001b[0;32m     10\u001b[0m controller1 \u001b[38;5;241m=\u001b[39m KCubeDCServo\u001b[38;5;241m.\u001b[39mCreateKCubeDCServo(serial_num1)\n\u001b[0;32m     11\u001b[0m \u001b[38;5;28;01mif\u001b[39;00m controller \u001b[38;5;129;01mis\u001b[39;00m \u001b[38;5;129;01mnot\u001b[39;00m \u001b[38;5;28;01mNone\u001b[39;00m \u001b[38;5;129;01mand\u001b[39;00m controller1 \u001b[38;5;129;01mis\u001b[39;00m \u001b[38;5;129;01mnot\u001b[39;00m \u001b[38;5;28;01mNone\u001b[39;00m:\n\u001b[1;32m---> 12\u001b[0m     \u001b[43mcontroller\u001b[49m\u001b[38;5;241;43m.\u001b[39;49m\u001b[43mConnect\u001b[49m\u001b[43m(\u001b[49m\u001b[43mserial_num\u001b[49m\u001b[43m)\u001b[49m\n\u001b[0;32m     13\u001b[0m     controller1\u001b[38;5;241m.\u001b[39mConnect(serial_num1)\n\u001b[0;32m     14\u001b[0m     \u001b[38;5;28;01mif\u001b[39;00m \u001b[38;5;129;01mnot\u001b[39;00m controller\u001b[38;5;241m.\u001b[39mIsSettingsInitialized():\n",
      "\u001b[1;31mDeviceNotReadyException\u001b[0m: Device is not connected\r\n   at Thorlabs.MotionControl.DeviceManagerCLI.ThorlabsGenericCoreDeviceCLI.VerifyDeviceConnected(Int32 functionDepth)\r\n   at Thorlabs.MotionControl.GenericMotorCLI.GenericMotorCLI.Connect(String serialNo)"
     ]
    }
   ],
   "source": [
    "initialize_motor()  # Call this ONCE\n",
    "LP_Motor1_s = [0, 0, 99, 79, 41, -39, 69, -21, 69, -69, -39, 39]\n",
    "QWPs_motor2 = [45, 135, 0, 0, 30, 30, -30, 60, 30, -30, -60]\n",
    "for angle, angle1 in zip(LP_Motor1_s, QWPs_motor2):\n",
    "    move_motor(angle, angle1)\n",
    "    \n",
    "    time.sleep(2)"
   ]
  },
  {
   "cell_type": "code",
   "execution_count": 5,
   "id": "5a31ace3",
   "metadata": {},
   "outputs": [],
   "source": [
    "!git remote set-url origin https://github.com/Mudit5coder/Automtion_thorLabs"
   ]
  },
  {
   "cell_type": "code",
   "execution_count": null,
   "id": "d7798757",
   "metadata": {},
   "outputs": [],
   "source": [
    "!git add Unti.ipynb\n",
    "!git commit -m \"Add new notebook: tthis.ipynb\""
   ]
  }
 ],
 "metadata": {
  "kernelspec": {
   "display_name": "Python 3 (ipykernel)",
   "language": "python",
   "name": "python3"
  },
  "language_info": {
   "codemirror_mode": {
    "name": "ipython",
    "version": 3
   },
   "file_extension": ".py",
   "mimetype": "text/x-python",
   "name": "python",
   "nbconvert_exporter": "python",
   "pygments_lexer": "ipython3",
   "version": "3.10.9"
  }
 },
 "nbformat": 4,
 "nbformat_minor": 5
}
